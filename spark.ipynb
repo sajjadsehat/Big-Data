{
  "nbformat": 4,
  "nbformat_minor": 0,
  "metadata": {
    "colab": {
      "provenance": [],
      "collapsed_sections": [],
      "authorship_tag": "ABX9TyN4OUYrKh7NkBvpGpOdoFSc",
      "include_colab_link": true
    },
    "kernelspec": {
      "name": "python3",
      "display_name": "Python 3"
    },
    "language_info": {
      "name": "python"
    }
  },
  "cells": [
    {
      "cell_type": "markdown",
      "metadata": {
        "id": "view-in-github",
        "colab_type": "text"
      },
      "source": [
        "<a href=\"https://colab.research.google.com/github/sajjadsehat/Big-Data/blob/main/spark.ipynb\" target=\"_parent\"><img src=\"https://colab.research.google.com/assets/colab-badge.svg\" alt=\"Open In Colab\"/></a>"
      ]
    },
    {
      "cell_type": "code",
      "execution_count": null,
      "metadata": {
        "colab": {
          "base_uri": "https://localhost:8080/"
        },
        "id": "ymwhplPj172q",
        "outputId": "676f6df8-8721-4970-91a3-e684d7346c4e"
      },
      "outputs": [
        {
          "output_type": "stream",
          "name": "stdout",
          "text": [
            "Looking in indexes: https://pypi.org/simple, https://us-python.pkg.dev/colab-wheels/public/simple/\n",
            "Collecting pyspark\n",
            "  Downloading pyspark-3.3.1.tar.gz (281.4 MB)\n",
            "\u001b[K     |████████████████████████████████| 281.4 MB 49 kB/s \n",
            "\u001b[?25hCollecting py4j==0.10.9.5\n",
            "  Downloading py4j-0.10.9.5-py2.py3-none-any.whl (199 kB)\n",
            "\u001b[K     |████████████████████████████████| 199 kB 46.2 MB/s \n",
            "\u001b[?25hBuilding wheels for collected packages: pyspark\n",
            "  Building wheel for pyspark (setup.py) ... \u001b[?25l\u001b[?25hdone\n",
            "  Created wheel for pyspark: filename=pyspark-3.3.1-py2.py3-none-any.whl size=281845513 sha256=3929d08ae746f5120fe7e7ec7a039888fe24303d12483897e1697707c39384f4\n",
            "  Stored in directory: /root/.cache/pip/wheels/42/59/f5/79a5bf931714dcd201b26025347785f087370a10a3329a899c\n",
            "Successfully built pyspark\n",
            "Installing collected packages: py4j, pyspark\n",
            "Successfully installed py4j-0.10.9.5 pyspark-3.3.1\n"
          ]
        }
      ],
      "source": [
        "!pip install pyspark"
      ]
    },
    {
      "cell_type": "code",
      "source": [
        "import pyspark\n",
        "from pyspark.sql import *\n",
        "from pyspark.sql.functions import *\n",
        "from pyspark import SparkContext, SparkConf"
      ],
      "metadata": {
        "id": "rESuXPAh2aq-"
      },
      "execution_count": null,
      "outputs": []
    },
    {
      "cell_type": "code",
      "source": [
        "# create the session\n",
        "conf = SparkConf().set(\"spark.ui.port\", \"4050\")\n",
        "\n",
        "# create the context\n",
        "sc = pyspark.SparkContext(conf=conf)\n",
        "spark = SparkSession.builder.getOrCreate()"
      ],
      "metadata": {
        "id": "YlTzV8Zw2a1M"
      },
      "execution_count": null,
      "outputs": []
    },
    {
      "cell_type": "code",
      "source": [
        "spark"
      ],
      "metadata": {
        "colab": {
          "base_uri": "https://localhost:8080/",
          "height": 222
        },
        "id": "nYEdWGBS2a4L",
        "outputId": "ff6c19fd-d597-4e40-fabb-f05d3fdc5a76"
      },
      "execution_count": null,
      "outputs": [
        {
          "output_type": "execute_result",
          "data": {
            "text/plain": [
              "<pyspark.sql.session.SparkSession at 0x7f91479d3810>"
            ],
            "text/html": [
              "\n",
              "            <div>\n",
              "                <p><b>SparkSession - in-memory</b></p>\n",
              "                \n",
              "        <div>\n",
              "            <p><b>SparkContext</b></p>\n",
              "\n",
              "            <p><a href=\"http://603203a52a3d:4050\">Spark UI</a></p>\n",
              "\n",
              "            <dl>\n",
              "              <dt>Version</dt>\n",
              "                <dd><code>v3.3.1</code></dd>\n",
              "              <dt>Master</dt>\n",
              "                <dd><code>local[*]</code></dd>\n",
              "              <dt>AppName</dt>\n",
              "                <dd><code>pyspark-shell</code></dd>\n",
              "            </dl>\n",
              "        </div>\n",
              "        \n",
              "            </div>\n",
              "        "
            ]
          },
          "metadata": {},
          "execution_count": 4
        }
      ]
    },
    {
      "cell_type": "markdown",
      "source": [
        "<div dir=rtl>\n",
        " مجموعه داده زیر شامل 100000 نمونه ازاطلاعات شخصی افرادی است که طی سال های 2005  الی 2008 با ویژگی های نام،نام خانوادگی،جنسیت، تاریخ تولد وکد پستی است که طی سال های مذکور طی ثبت های تکراری ذخیره گشته است. حال طی این پروژه به دنبال آنیم تا جفت ثبت ها را که متعلق به یک شخص است بیابیم."
      ],
      "metadata": {
        "id": "sCEFGPlh492D"
      }
    },
    {
      "cell_type": "code",
      "source": [
        "!curl -L -o donation.zip https://bit.ly/1Aoywaq\n",
        "!unzip donation.zip\n",
        "!unzip 'block_*.zip'"
      ],
      "metadata": {
        "colab": {
          "base_uri": "https://localhost:8080/"
        },
        "id": "8KzMcoB12a62",
        "outputId": "f0b35679-5b58-4ffd-c195-ce63fc3d56d7"
      },
      "execution_count": null,
      "outputs": [
        {
          "output_type": "stream",
          "name": "stdout",
          "text": [
            "  % Total    % Received % Xferd  Average Speed   Time    Time     Time  Current\n",
            "                                 Dload  Upload   Total   Spent    Left  Speed\n",
            "100   163  100   163    0     0   2063      0 --:--:-- --:--:-- --:--:--  2063\n",
            "100 53.8M  100 53.8M    0     0  30.3M      0  0:00:01  0:00:01 --:--:-- 52.9M\n",
            "Archive:  donation.zip\n",
            " extracting: block_10.zip            \n",
            " extracting: block_1.zip             \n",
            " extracting: block_2.zip             \n",
            " extracting: block_3.zip             \n",
            " extracting: block_4.zip             \n",
            " extracting: block_5.zip             \n",
            " extracting: block_6.zip             \n",
            " extracting: block_7.zip             \n",
            " extracting: block_8.zip             \n",
            " extracting: block_9.zip             \n",
            "  inflating: documentation           \n",
            "  inflating: frequencies.csv         \n",
            "Archive:  block_6.zip\n",
            "  inflating: block_6.csv             \n",
            "\n",
            "Archive:  block_4.zip\n",
            "  inflating: block_4.csv             \n",
            "\n",
            "Archive:  block_7.zip\n",
            "  inflating: block_7.csv             \n",
            "\n",
            "Archive:  block_5.zip\n",
            "  inflating: block_5.csv             \n",
            "\n",
            "Archive:  block_1.zip\n",
            "  inflating: block_1.csv             \n",
            "\n",
            "Archive:  block_8.zip\n",
            "  inflating: block_8.csv             \n",
            "\n",
            "Archive:  block_2.zip\n",
            "  inflating: block_2.csv             \n",
            "\n",
            "Archive:  block_9.zip\n",
            "  inflating: block_9.csv             \n",
            "\n",
            "Archive:  block_10.zip\n",
            "  inflating: block_10.csv            \n",
            "\n",
            "Archive:  block_3.zip\n",
            "  inflating: block_3.csv             \n",
            "\n",
            "10 archives were successfully processed.\n"
          ]
        }
      ]
    },
    {
      "cell_type": "code",
      "source": [
        "#load dataset\n",
        "df0 = spark.read.csv(\"block*.csv\")"
      ],
      "metadata": {
        "id": "Me1Y8VuG5C9L"
      },
      "execution_count": null,
      "outputs": []
    },
    {
      "cell_type": "code",
      "source": [
        "df0.count()"
      ],
      "metadata": {
        "colab": {
          "base_uri": "https://localhost:8080/"
        },
        "id": "Mh-1fsle5Ddj",
        "outputId": "544a4033-a33d-479e-c8ee-9c8844166792"
      },
      "execution_count": null,
      "outputs": [
        {
          "output_type": "execute_result",
          "data": {
            "text/plain": [
              "5749142"
            ]
          },
          "metadata": {},
          "execution_count": 7
        }
      ]
    },
    {
      "cell_type": "code",
      "source": [
        "df0.printSchema()"
      ],
      "metadata": {
        "colab": {
          "base_uri": "https://localhost:8080/"
        },
        "id": "Bh6Z83HS5Df9",
        "outputId": "187bfb3a-f139-43d3-e6d5-5dc8dd20c028"
      },
      "execution_count": null,
      "outputs": [
        {
          "output_type": "stream",
          "name": "stdout",
          "text": [
            "root\n",
            " |-- _c0: string (nullable = true)\n",
            " |-- _c1: string (nullable = true)\n",
            " |-- _c2: string (nullable = true)\n",
            " |-- _c3: string (nullable = true)\n",
            " |-- _c4: string (nullable = true)\n",
            " |-- _c5: string (nullable = true)\n",
            " |-- _c6: string (nullable = true)\n",
            " |-- _c7: string (nullable = true)\n",
            " |-- _c8: string (nullable = true)\n",
            " |-- _c9: string (nullable = true)\n",
            " |-- _c10: string (nullable = true)\n",
            " |-- _c11: string (nullable = true)\n",
            "\n"
          ]
        }
      ]
    },
    {
      "cell_type": "code",
      "source": [
        "df0.show(10)"
      ],
      "metadata": {
        "colab": {
          "base_uri": "https://localhost:8080/"
        },
        "id": "NQXA7WIO5Di7",
        "outputId": "4be2350c-b271-43c0-932d-4769e63e7275"
      },
      "execution_count": null,
      "outputs": [
        {
          "output_type": "stream",
          "name": "stdout",
          "text": [
            "+-----+-----+------------+------------+------------+------------+-------+------+------+------+-------+--------+\n",
            "|  _c0|  _c1|         _c2|         _c3|         _c4|         _c5|    _c6|   _c7|   _c8|   _c9|   _c10|    _c11|\n",
            "+-----+-----+------------+------------+------------+------------+-------+------+------+------+-------+--------+\n",
            "| id_1| id_2|cmp_fname_c1|cmp_fname_c2|cmp_lname_c1|cmp_lname_c2|cmp_sex|cmp_bd|cmp_bm|cmp_by|cmp_plz|is_match|\n",
            "| 3148| 8326|           1|           ?|           1|           ?|      1|     1|     1|     1|      1|    TRUE|\n",
            "|14055|94934|           1|           ?|           1|           ?|      1|     1|     1|     1|      1|    TRUE|\n",
            "|33948|34740|           1|           ?|           1|           ?|      1|     1|     1|     1|      1|    TRUE|\n",
            "|  946|71870|           1|           ?|           1|           ?|      1|     1|     1|     1|      1|    TRUE|\n",
            "|64880|71676|           1|           ?|           1|           ?|      1|     1|     1|     1|      1|    TRUE|\n",
            "|25739|45991|           1|           ?|           1|           ?|      1|     1|     1|     1|      1|    TRUE|\n",
            "|62415|93584|           1|           ?|           1|           ?|      1|     1|     1|     1|      0|    TRUE|\n",
            "|27995|31399|           1|           ?|           1|           ?|      1|     1|     1|     1|      1|    TRUE|\n",
            "| 4909|12238|           1|           ?|           1|           ?|      1|     1|     1|     1|      1|    TRUE|\n",
            "+-----+-----+------------+------------+------------+------------+-------+------+------+------+-------+--------+\n",
            "only showing top 10 rows\n",
            "\n"
          ]
        }
      ]
    },
    {
      "cell_type": "code",
      "source": [
        "parsed = spark.read.csv(\"block*.csv\", header=True, inferSchema=True, nullValue=\"?\")"
      ],
      "metadata": {
        "id": "tfsrDdjk5Doq"
      },
      "execution_count": null,
      "outputs": []
    },
    {
      "cell_type": "code",
      "source": [
        "parsed.printSchema()"
      ],
      "metadata": {
        "colab": {
          "base_uri": "https://localhost:8080/"
        },
        "id": "zrMm2zke5Drh",
        "outputId": "f817c512-43df-44c3-d218-1c87fcc3226c"
      },
      "execution_count": null,
      "outputs": [
        {
          "output_type": "stream",
          "name": "stdout",
          "text": [
            "root\n",
            " |-- id_1: integer (nullable = true)\n",
            " |-- id_2: integer (nullable = true)\n",
            " |-- cmp_fname_c1: double (nullable = true)\n",
            " |-- cmp_fname_c2: double (nullable = true)\n",
            " |-- cmp_lname_c1: double (nullable = true)\n",
            " |-- cmp_lname_c2: double (nullable = true)\n",
            " |-- cmp_sex: integer (nullable = true)\n",
            " |-- cmp_bd: integer (nullable = true)\n",
            " |-- cmp_bm: integer (nullable = true)\n",
            " |-- cmp_by: integer (nullable = true)\n",
            " |-- cmp_plz: integer (nullable = true)\n",
            " |-- is_match: boolean (nullable = true)\n",
            "\n"
          ]
        }
      ]
    },
    {
      "cell_type": "code",
      "source": [
        "parsed.show(10)"
      ],
      "metadata": {
        "colab": {
          "base_uri": "https://localhost:8080/"
        },
        "id": "X7TeDl2t5xPM",
        "outputId": "bc9476ac-d456-4541-ebba-66b8064652d4"
      },
      "execution_count": null,
      "outputs": [
        {
          "output_type": "stream",
          "name": "stdout",
          "text": [
            "+-----+-----+------------+------------+------------+------------+-------+------+------+------+-------+--------+\n",
            "| id_1| id_2|cmp_fname_c1|cmp_fname_c2|cmp_lname_c1|cmp_lname_c2|cmp_sex|cmp_bd|cmp_bm|cmp_by|cmp_plz|is_match|\n",
            "+-----+-----+------------+------------+------------+------------+-------+------+------+------+-------+--------+\n",
            "| 3148| 8326|         1.0|        null|         1.0|        null|      1|     1|     1|     1|      1|    true|\n",
            "|14055|94934|         1.0|        null|         1.0|        null|      1|     1|     1|     1|      1|    true|\n",
            "|33948|34740|         1.0|        null|         1.0|        null|      1|     1|     1|     1|      1|    true|\n",
            "|  946|71870|         1.0|        null|         1.0|        null|      1|     1|     1|     1|      1|    true|\n",
            "|64880|71676|         1.0|        null|         1.0|        null|      1|     1|     1|     1|      1|    true|\n",
            "|25739|45991|         1.0|        null|         1.0|        null|      1|     1|     1|     1|      1|    true|\n",
            "|62415|93584|         1.0|        null|         1.0|        null|      1|     1|     1|     1|      0|    true|\n",
            "|27995|31399|         1.0|        null|         1.0|        null|      1|     1|     1|     1|      1|    true|\n",
            "| 4909|12238|         1.0|        null|         1.0|        null|      1|     1|     1|     1|      1|    true|\n",
            "|15161|16743|         1.0|        null|         1.0|        null|      1|     1|     1|     1|      1|    true|\n",
            "+-----+-----+------------+------------+------------+------------+-------+------+------+------+-------+--------+\n",
            "only showing top 10 rows\n",
            "\n"
          ]
        }
      ]
    },
    {
      "cell_type": "markdown",
      "source": [
        "<div dir=rtl>\n",
        "پاسخ سوال دوم: اولا نام مربوط به هر فیچر و نوع دیتا فیچر مشخص گردید.ثانیا مقادیر ؟ به عنوان null شناسایی شده است. یعنی جایگزین گردید.\n"
      ],
      "metadata": {
        "id": "Etzq7RyR58MT"
      }
    },
    {
      "cell_type": "code",
      "source": [
        "parsed.groupBy('is_match').count().show()"
      ],
      "metadata": {
        "colab": {
          "base_uri": "https://localhost:8080/"
        },
        "id": "iibA_s5w5xr7",
        "outputId": "db9d56ea-7830-4853-ad5f-1cde8caa47cf"
      },
      "execution_count": null,
      "outputs": [
        {
          "output_type": "stream",
          "name": "stdout",
          "text": [
            "+--------+-------+\n",
            "|is_match|  count|\n",
            "+--------+-------+\n",
            "|    true|  20931|\n",
            "|   false|5728201|\n",
            "+--------+-------+\n",
            "\n"
          ]
        }
      ]
    },
    {
      "cell_type": "markdown",
      "source": [
        "<div dir=rtl>\n",
        "پاسخ سوال 3: با استفاده از این دستور ستون مربوط به طبقه بندی مربوط به is match مقادیر  true و false شمار گردیده است.\n",
        "در واقع فراوانی مقادیر فوق در ستون is match  می باشد.\n"
      ],
      "metadata": {
        "id": "N4yDWaFY6JJK"
      }
    },
    {
      "cell_type": "code",
      "source": [
        "summary = parsed.describe()\n",
        "summary.show()"
      ],
      "metadata": {
        "colab": {
          "base_uri": "https://localhost:8080/"
        },
        "id": "jfWrwdC65xua",
        "outputId": "b9e4b436-dc1b-45b6-98ad-f2e119eb5598"
      },
      "execution_count": null,
      "outputs": [
        {
          "output_type": "stream",
          "name": "stdout",
          "text": [
            "+-------+------------------+------------------+------------------+------------------+-------------------+-------------------+-------------------+-------------------+-------------------+------------------+-------------------+\n",
            "|summary|              id_1|              id_2|      cmp_fname_c1|      cmp_fname_c2|       cmp_lname_c1|       cmp_lname_c2|            cmp_sex|             cmp_bd|             cmp_bm|            cmp_by|            cmp_plz|\n",
            "+-------+------------------+------------------+------------------+------------------+-------------------+-------------------+-------------------+-------------------+-------------------+------------------+-------------------+\n",
            "|  count|           5749132|           5749132|           5748125|            103698|            5749132|               2464|            5749132|            5748337|            5748337|           5748337|            5736289|\n",
            "|   mean| 33324.48559643438| 66587.43558331935|0.7129024704425707| 0.900017671890335|0.31562781930763056|0.31841283153174366|  0.955001381078048|0.22446526708507172|0.48885529849763504|0.2227485966810923|0.00552866147434343|\n",
            "| stddev|23659.859374487987|23620.487613269706|0.3887583596162788|0.2713176105782331| 0.3342336339615803| 0.3685670662006655|0.20730111116897443|0.41722972238461925| 0.4998758236779003|0.4160909629831711|0.07414914925420013|\n",
            "|    min|                 1|                 6|               0.0|               0.0|                0.0|                0.0|                  0|                  0|                  0|                 0|                  0|\n",
            "|    max|             99980|            100000|               1.0|               1.0|                1.0|                1.0|                  1|                  1|                  1|                 1|                  1|\n",
            "+-------+------------------+------------------+------------------+------------------+-------------------+-------------------+-------------------+-------------------+-------------------+------------------+-------------------+\n",
            "\n"
          ]
        }
      ]
    },
    {
      "cell_type": "markdown",
      "source": [
        "<div dir=rtl>\n",
        "پاسخ سوال 4: مقدار count نشان دهنده مقادیر موجود است، دلیل متفاومت بودن آن این است که مقادیر پوچ شمرده نشده اند."
      ],
      "metadata": {
        "id": "l-xlWcge_yjJ"
      }
    },
    {
      "cell_type": "code",
      "source": [
        "matches = parsed.where(\"is_match = true\")\n",
        "match_summary = matches.describe()\n",
        "\n",
        "misses = parsed.filter(col(\"is_match\") == False) \n",
        "miss_summary = misses.describe()"
      ],
      "metadata": {
        "id": "uc8lnhc15xxd"
      },
      "execution_count": null,
      "outputs": []
    },
    {
      "cell_type": "code",
      "source": [
        "# Fill the null values  with 0\n",
        "parsed.na.fill(value=0).show()\n"
      ],
      "metadata": {
        "colab": {
          "base_uri": "https://localhost:8080/"
        },
        "id": "xbl23vBm5xzz",
        "outputId": "07e42602-14a7-45a9-8937-81d7aaf1fd5f"
      },
      "execution_count": null,
      "outputs": [
        {
          "output_type": "stream",
          "name": "stdout",
          "text": [
            "+-----+-----+------------+------------+------------+------------+-------+------+------+------+-------+--------+\n",
            "| id_1| id_2|cmp_fname_c1|cmp_fname_c2|cmp_lname_c1|cmp_lname_c2|cmp_sex|cmp_bd|cmp_bm|cmp_by|cmp_plz|is_match|\n",
            "+-----+-----+------------+------------+------------+------------+-------+------+------+------+-------+--------+\n",
            "| 3148| 8326|         1.0|         0.0|         1.0|         0.0|      1|     1|     1|     1|      1|    true|\n",
            "|14055|94934|         1.0|         0.0|         1.0|         0.0|      1|     1|     1|     1|      1|    true|\n",
            "|33948|34740|         1.0|         0.0|         1.0|         0.0|      1|     1|     1|     1|      1|    true|\n",
            "|  946|71870|         1.0|         0.0|         1.0|         0.0|      1|     1|     1|     1|      1|    true|\n",
            "|64880|71676|         1.0|         0.0|         1.0|         0.0|      1|     1|     1|     1|      1|    true|\n",
            "|25739|45991|         1.0|         0.0|         1.0|         0.0|      1|     1|     1|     1|      1|    true|\n",
            "|62415|93584|         1.0|         0.0|         1.0|         0.0|      1|     1|     1|     1|      0|    true|\n",
            "|27995|31399|         1.0|         0.0|         1.0|         0.0|      1|     1|     1|     1|      1|    true|\n",
            "| 4909|12238|         1.0|         0.0|         1.0|         0.0|      1|     1|     1|     1|      1|    true|\n",
            "|15161|16743|         1.0|         0.0|         1.0|         0.0|      1|     1|     1|     1|      1|    true|\n",
            "|31703|37310|         1.0|         0.0|         1.0|         0.0|      1|     1|     1|     1|      1|    true|\n",
            "|30213|36558|         1.0|         0.0|         1.0|         0.0|      1|     1|     1|     1|      1|    true|\n",
            "|56596|56630|         1.0|         0.0|         1.0|         0.0|      1|     1|     1|     1|      1|    true|\n",
            "|16481|21174|         1.0|         0.0|         1.0|         0.0|      1|     1|     1|     1|      1|    true|\n",
            "|32649|37094|         1.0|         0.0|         1.0|         0.0|      1|     1|     1|     1|      1|    true|\n",
            "|34268|37260|         1.0|         0.0|         1.0|         0.0|      1|     1|     1|     1|      1|    true|\n",
            "|66117|69253|         1.0|         0.0|         1.0|         0.0|      1|     1|     1|     1|      0|    true|\n",
            "| 2771|31982|         1.0|         0.0|         1.0|         0.0|      0|     1|     1|     1|      1|    true|\n",
            "|23557|29673|         1.0|         0.0|         1.0|         0.0|      1|     1|     1|     1|      1|    true|\n",
            "|37156|39557|         1.0|         0.0|         1.0|         0.0|      1|     1|     1|     1|      1|    true|\n",
            "+-----+-----+------------+------------+------------+------------+-------+------+------+------+-------+--------+\n",
            "only showing top 20 rows\n",
            "\n"
          ]
        }
      ]
    }
  ]
}